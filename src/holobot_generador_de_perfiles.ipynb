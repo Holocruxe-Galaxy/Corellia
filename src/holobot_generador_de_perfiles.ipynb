{
 "cells": [
  {
   "cell_type": "markdown",
   "metadata": {},
   "source": [
    "Importacion de librerias"
   ]
  },
  {
   "cell_type": "code",
   "execution_count": 1,
   "metadata": {},
   "outputs": [],
   "source": [
    "#importamos las librerias\n",
    "import tensorflow as tf\n",
    "import pymongo\n",
    "from pymongo import MongoClient\n",
    "from datetime import datetime, timedelta\n",
    "import numpy as np\n",
    "import pandas as pd\n",
    "import csv\n",
    "import matplotlib.pyplot as plt\n",
    "import seaborn as sns\n"
   ]
  },
  {
   "cell_type": "markdown",
   "metadata": {},
   "source": [
    "Creacion de base de datos para alimentar el modelo"
   ]
  },
  {
   "cell_type": "code",
   "execution_count": 2,
   "metadata": {},
   "outputs": [],
   "source": [
    "# Conexión a MongoDB\n",
    "client = MongoClient('mongodb://localhost:27017/')\n",
    "\n",
    "# Crear la base de datos 'holobot_database'\n",
    "db = client['holobot_database_model_3']\n",
    "\n",
    "# Crear la colección 'initial_questions'\n",
    "initial_questions_collection = db['initial_questions']\n",
    "\n",
    "# Crear la colección 'final_questions'\n",
    "final_questions_collection = db['final_questions']\n",
    "\n",
    "# Crear la colección 'user_data'\n",
    "initial_user_data_collection = db['user_data']"
   ]
  },
  {
   "cell_type": "markdown",
   "metadata": {},
   "source": [
    "Funciones para guardar los registros en la base de datos"
   ]
  },
  {
   "cell_type": "code",
   "execution_count": 3,
   "metadata": {},
   "outputs": [],
   "source": [
    "# Insertar documento de preguntas iniciales\n",
    "def insert_initial_questions(user_id, slack_username, full_name, answers, fecha):\n",
    "    document = {\n",
    "        # Fecha y hora en que se completa la encuesta\n",
    "        'fecha_hora': fecha,\n",
    "        'id_de_slack': user_id,\n",
    "        'nombre_usuario_slack': slack_username,\n",
    "        'nombre_completo': full_name,\n",
    "        **answers\n",
    "    }\n",
    "    initial_questions_collection.insert_one(document)\n",
    "\n",
    "# Insertar documento de preguntas finales\n",
    "def insert_final_questions(user_id, slack_username, full_name, answers, fecha):\n",
    "    document = {\n",
    "        'fecha_hora': fecha,\n",
    "        'id_de_slack': user_id,\n",
    "        'nombre_usuario_slack': slack_username,\n",
    "        'nombre_completo': full_name,\n",
    "        **answers\n",
    "    }\n",
    "    final_questions_collection.insert_one(document)\n",
    "\n",
    "# Insertar documento de identificacion de area\n",
    "def insert_user_data(user_id, slack_username, full_name, area):\n",
    "    document = {\n",
    "        'fecha_hora': datetime.now(),  # Fecha y hora en que se completa la encuesta\n",
    "        'id_de_slack': user_id,\n",
    "        'nombre_usuario_slack': slack_username,\n",
    "        'nombre_completo': full_name,\n",
    "        'area' : area\n",
    "    }\n",
    "    initial_user_data_collection.insert_one(document)\n"
   ]
  },
  {
   "cell_type": "markdown",
   "metadata": {},
   "source": [
    "Funciones para la generación de registros sintéticos de prueba"
   ]
  },
  {
   "cell_type": "code",
   "execution_count": 4,
   "metadata": {},
   "outputs": [],
   "source": [
    "import random\n",
    "\n",
    "\n",
    "def random_initial_question(user_id, slack_username, full_name, fecha):\n",
    "\n",
    "    #variables formulario\n",
    "    agenda_options = [\"Si\", \"No\"]\n",
    "    reuniones_options = [\"Si\", \"No\"]\n",
    "    area_reuniones = [\"Data\", \"Producto\", \"Tech\",\n",
    "                      \"Legales\", \"RRHH\", \"Finanzas\", \"Otro\"]\n",
    "    ayuno = [\"Si\", \"No\"]\n",
    "    dead_line = [\"Si\", \"No\"]\n",
    "\n",
    "    # Crear un diccionario con las preguntas iniciales y sus valores aleatorios\n",
    "    initial_datat = {\n",
    "        'tienes_agenda_planeada': random.choice(agenda_options),\n",
    "        'tienes_reuniones_planeadas': random.choice(reuniones_options),\n",
    "        'con_que_areas_te_vas_a_reunir': random.choice(area_reuniones),\n",
    "        'ayunaste_hoy': random.choice(ayuno),\n",
    "        'tienes_deadline_hoy': random.choice(dead_line)\n",
    "    }\n",
    "\n",
    "    # Agregar los datos a la base de datos\n",
    "    insert_initial_questions(user_id, slack_username,\n",
    "                             full_name, initial_datat, fecha)\n"
   ]
  },
  {
   "cell_type": "code",
   "execution_count": 5,
   "metadata": {},
   "outputs": [],
   "source": [
    "def random_final_question(user_id, slack_username, full_name, fecha):\n",
    "\n",
    "    #variables formulario\n",
    "    tiempo_tarea = [\"Si\", \"No\"]\n",
    "    automatizar_options = [\"Si\", \"No\"]\n",
    "    lugar_options = [\"Si\", \"No\"]\n",
    "    metodologia_options = [\"Si\", \"No\"]\n",
    "    satisfaccion_options = [\"Si\", \"No\", \"No tuve ninguna reunión\"]\n",
    "    dudas_options = [\"Si\", \"No\", \"No tuve ninguna reunion\",\n",
    "                     \"Tuve reuniones, pero, no tenía dudas por aclarar\"]\n",
    "    reunion_planificada = [\"Si\", \"No\"]\n",
    "    productividad = [1, 2, 3, 4, 5]\n",
    "    descansos = [\"Suficientes y bien distribuidos\", \"Suficientes pero mal distribuidos\",\n",
    "                 \"Insuficientes pero bien distribuidos\", \"Insuficientes y mal distribuidos\"]\n",
    "\n",
    "    # Crear un diccionario con las preguntas iniciales y sus valores aleatorios\n",
    "    final_datat = {\n",
    "        'alguna_tarea_te_llevo_mas_tiempo': random.choice(tiempo_tarea),\n",
    "        'hay_tareas_que_se_pueden_automatizar': random.choice(automatizar_options),\n",
    "        'tuviste_que_ir_a_algun_lugar_para_hacer_tus_tareas': random.choice(lugar_options),\n",
    "        'usaste_alguna_metodologia_para_optimizar_el_tiempo': random.choice(metodologia_options),\n",
    "        'fueron_satisfactorias_las_reuniones': random.choice(satisfaccion_options),\n",
    "        'pudiste_resolver_tus_dudas_sobre_el_trabajo': random.choice(dudas_options),\n",
    "        'tuviste_reuniones_planificadas': random.choice(reunion_planificada),\n",
    "        'productividad_hoy': random.choice(productividad),\n",
    "        'calificacion_descansos': random.choice(descansos)\n",
    "    }\n",
    "\n",
    "    # Agregar los datos a la base de datos\n",
    "    insert_final_questions(user_id, slack_username,\n",
    "                           full_name, final_datat, fecha)\n"
   ]
  },
  {
   "cell_type": "code",
   "execution_count": 6,
   "metadata": {},
   "outputs": [
    {
     "data": {
      "text/plain": [
       "'\\ndef respuesta_user_area():\\n    area = random.choice([\"Data\", \"Producto\", \"Tecnología\", \"Legal\", \"Rercursos humanos\", \"Finanzas\", \"Otro\"])\\n    # Generar respuesta en formato JSON\\n\\n    respuesta_area = {\\n        \"area\": area\\n    }\\n    return respuesta_area\\n'"
      ]
     },
     "execution_count": 6,
     "metadata": {},
     "output_type": "execute_result"
    }
   ],
   "source": [
    "# Funcion para la creacion de registros por area\n",
    "'''\n",
    "def respuesta_user_area():\n",
    "    area = random.choice([\"Data\", \"Producto\", \"Tecnología\", \"Legal\", \"Rercursos humanos\", \"Finanzas\", \"Otro\"])\n",
    "    # Generar respuesta en formato JSON\n",
    "\n",
    "    respuesta_area = {\n",
    "        \"area\": area\n",
    "    }\n",
    "    return respuesta_area\n",
    "'''\n"
   ]
  },
  {
   "cell_type": "code",
   "execution_count": 7,
   "metadata": {},
   "outputs": [],
   "source": [
    "lista_usuarios = ['Domingo Cámara Arroyo', 'Ismael Viana Fuertes', 'Liliana Gabaldón', 'Carlito de Antón', 'Mamen Álvaro Velázquez', 'Carlos Salvà Sierra', 'Bienvenida Gimeno Amigó', 'Carlos Segura-Peláez', 'Elvira Hoyos Tamarit',\n",
    "                  'Chita Bustamante Carretero', 'Amor Sales Méndez', 'Patricia Godoy Montoya', 'Eligio Ponce Belmonte', 'Eli Boada-Lozano', 'Carolina de Villalba', 'Adelardo Cortés', 'Aarón Serna-Pomares', 'Eutropio Nogués Fuentes',\n",
    "                  'Consuela Lasa Flor', 'María Cantero Montalbán', 'Germán Falcón-Benitez', 'Jordana Rosario Goñi Carbó', 'Beatriz Álvaro Ferrándiz', 'Nando Manso Requena', 'Álvaro Jurado Andrade', 'Lucio Luna Cabello', 'Carla Gallego',\n",
    "                  'Norberto Perelló', 'Pastor Campos-Royo', 'Griselda Lladó Torrecilla', 'Gustavo Iriarte Villalobos', 'Macarena Zapata Escobar', 'Maximiliano Cabo Rey', 'Juanita Amaya Lopez Requena', 'Jose Ignacio de Vives', 'Isidro Costa',\n",
    "                  'Agustina Miranda Azorin', 'Cayetana del Gallart', 'Santiago Roldán Mariscal', 'Lucio Martínez Pozuelo', 'Anna Sanjuan Higueras', 'Pío Josué Iñiguez Elías', 'Paloma Cabezas Pazos', 'Adoración Garriga Expósito',\n",
    "                  'Adelina Nicolau Azorin', 'Milagros Perea', 'Borja Villalonga Amo', 'Amelia Solé Torrent', 'Leire Escrivá Planas', 'Violeta Moliner', 'Anna Zaragoza Español', 'Osvaldo Benito Castillo Ávila', 'Tomás Verdugo Moraleda',\n",
    "                  'Brígida Tejedor Rozas', 'Moisés de Sosa', 'Pilar Villaverde Jordán', 'Pablo Pina Vara', 'Encarnacion Morante Camacho', 'Alcides Albano Pina Amat', 'Lucas de Pablo', 'Juan Manuel Gámez Arce', 'Alejandra Vilar Cerezo',\n",
    "                  'Ignacia Ibarra Barrios', 'Geraldo García Granados', 'Duilio Montaña Parra', 'Florencio Vall Espinosa', 'Vanesa del Esteve', 'Fortunato Pedrosa Lluch', 'Lucio Giménez Terrón', 'Celestina Cuenca Sola', 'Emigdio Ruiz Feliu',\n",
    "                  'Jenny Mercader Rivera', 'Cruz Garay Robledo', 'Haroldo Navarro Miranda', 'Damián Jódar Burgos', 'Simón Agustín', 'Mariano Salas Santos', 'Jose Carlos de Cuervo', 'Encarna Menéndez Calderon', 'Atilio Urbano Armas Arrieta',\n",
    "                  'Macario Bertrán Moles', 'Isaura Vázquez Echevarría', 'Francisco Jose Bou Exposito', 'Ariadna Duarte Dalmau', 'Carmina Suarez Múgica', 'Cayetana Sobrino Rivero', 'Ana Vilanova Campillo',\n",
    "                  'Belen Echevarría-Barros', 'Álvaro Busquets Baró', 'Fito Tenorio Alarcón', 'Ruy Sanabria', 'Efraín Julián Mendizábal', 'Flavio Gisbert', 'Andrés Torrens-Giner', 'Dorita Elorza-Fernández',\n",
    "                  'Marcela Cuéllar Asensio', 'Eli Villegas Prieto', 'José Antonio Jover Montes', 'Juan Pablo Oller Barral', 'Carmela Madrigal Larrea']\n"
   ]
  },
  {
   "cell_type": "code",
   "execution_count": 8,
   "metadata": {},
   "outputs": [],
   "source": [
    "areas = {'slack_user0': 'Rercursos humanos', 'slack_user1': 'Legal', 'slack_user2': 'Finanzas', 'slack_user3': 'Data',\n",
    " 'slack_user4': 'Finanzas', 'slack_user5': 'Finanzas', 'slack_user6': 'Finanzas', 'slack_user7': 'Finanzas',\n",
    " 'slack_user8': 'Rercursos humanos', 'slack_user9': 'Finanzas', 'slack_user10': 'Otro', 'slack_user11': 'Legal',\n",
    " 'slack_user12': 'Finanzas', 'slack_user13': 'Legal', 'slack_user14': 'Otro', 'slack_user15': 'Legal',\n",
    " 'slack_user16': 'Rercursos humanos', 'slack_user17': 'Producto', 'slack_user18': 'Tecnología', 'slack_user19': \n",
    " 'Finanzas', 'slack_user20': 'Finanzas', 'slack_user21': 'Producto', 'slack_user22': 'Data', 'slack_user23': 'Data', \n",
    " 'slack_user24': 'Tecnología', 'slack_user25': 'Producto', 'slack_user26': 'Finanzas', 'slack_user27': 'Tecnología', \n",
    " 'slack_user28': 'Tecnología', 'slack_user29': 'Finanzas', 'slack_user30': 'Producto', 'slack_user31': 'Producto', \n",
    " 'slack_user32': 'Tecnología', 'slack_user33': 'Rercursos humanos', 'slack_user34': 'Finanzas', 'slack_user35': 'Tecnología', \n",
    " 'slack_user36': 'Legal', 'slack_user37': 'Producto', 'slack_user38': 'Legal', 'slack_user39': 'Tecnología', 'slack_user40': 'Data',\n",
    " 'slack_user41': 'Rercursos humanos', 'slack_user42': 'Producto', 'slack_user43': 'Tecnología', 'slack_user44': 'Otro', \n",
    " 'slack_user45': 'Otro', 'slack_user46': 'Finanzas', 'slack_user47': 'Producto', 'slack_user48': 'Legal', 'slack_user49': 'Otro', \n",
    " 'slack_user50': 'Finanzas', 'slack_user51': 'Finanzas', 'slack_user52': 'Finanzas', 'slack_user53': 'Producto', \n",
    " 'slack_user54': 'Finanzas', 'slack_user55': 'Data', 'slack_user56': 'Finanzas', 'slack_user57': 'Otro', \n",
    " 'slack_user58': 'Rercursos humanos', 'slack_user59': 'Producto', 'slack_user60': 'Rercursos humanos', 'slack_user61': 'Finanzas',\n",
    " 'slack_user62': 'Finanzas', 'slack_user63': 'Producto', 'slack_user64': 'Producto', 'slack_user65': 'Legal', 'slack_user66': 'Tecnología',\n",
    " 'slack_user67': 'Finanzas', 'slack_user68': 'Rercursos humanos', 'slack_user69': 'Legal', 'slack_user70': 'Tecnología',\n",
    " 'slack_user71': 'Otro', 'slack_user72': 'Rercursos humanos', 'slack_user73': 'Producto', 'slack_user74': 'Otro',\n",
    " 'slack_user75': 'Tecnología', 'slack_user76': 'Otro', 'slack_user77': 'Rercursos humanos', 'slack_user78': 'Legal',\n",
    " 'slack_user79': 'Finanzas', 'slack_user80': 'Legal', 'slack_user81': 'Otro', 'slack_user82': 'Producto',\n",
    " 'slack_user83': 'Rercursos humanos', 'slack_user84': 'Data', 'slack_user85': 'Data', 'slack_user86': 'Legal',\n",
    " 'slack_user87': 'Otro', 'slack_user88': 'Tecnología', 'slack_user89': 'Otro', 'slack_user90': 'Producto', 'slack_user91': 'Otro',\n",
    " 'slack_user92': 'Finanzas', 'slack_user93': 'Rercursos humanos', 'slack_user94': 'Finanzas', 'slack_user95': 'Data',\n",
    " 'slack_user96': 'Rercursos humanos', 'slack_user97': 'Producto', 'slack_user98': 'Data', 'slack_user99': 'Rercursos humanos'}"
   ]
  },
  {
   "cell_type": "markdown",
   "metadata": {},
   "source": [
    "Generación e ingesta de registros en la base de datos"
   ]
  },
  {
   "cell_type": "code",
   "execution_count": 9,
   "metadata": {},
   "outputs": [],
   "source": [
    "# Función para la generación de datos sintéticos indicando la cantidad de usuarios y la cantidad de registros por usuario.\n",
    "\n",
    "def generador_respuestas(cantidad_usuarios, cantidad_registros):\n",
    "    for j in range(cantidad_usuarios):\n",
    "        user_id = 'slack_user'+str(j)\n",
    "        slack_username = 'slack_username'+str(j)\n",
    "        full_name = lista_usuarios[j]\n",
    "        area = areas['slack_user'+str(j)]\n",
    "        \n",
    "        insert_user_data(user_id, slack_username, full_name, area)\n",
    "\n",
    "        fecha = datetime.now()\n",
    "        for i in range(cantidad_registros):\n",
    "            random_initial_question(user_id, slack_username, full_name, fecha)\n",
    "            random_final_question(user_id, slack_username, full_name, fecha)\n",
    "            fecha = fecha + timedelta(days=1)\n"
   ]
  },
  {
   "cell_type": "code",
   "execution_count": 10,
   "metadata": {},
   "outputs": [],
   "source": [
    "# Generacion de registros sintéticos.\n",
    "cantidad_registros = 50\n",
    "cantidad_usuarios = 5\n",
    "\n",
    "generador_respuestas(cantidad_usuarios, cantidad_registros)\n"
   ]
  },
  {
   "cell_type": "code",
   "execution_count": null,
   "metadata": {},
   "outputs": [],
   "source": []
  }
 ],
 "metadata": {
  "interpreter": {
   "hash": "98d659fb82979bc0f35632b1c97b79e57760b3edcc1141f664da230877f13dc9"
  },
  "kernelspec": {
   "display_name": "Python 3.10.1 64-bit",
   "language": "python",
   "name": "python3"
  },
  "language_info": {
   "codemirror_mode": {
    "name": "ipython",
    "version": 3
   },
   "file_extension": ".py",
   "mimetype": "text/x-python",
   "name": "python",
   "nbconvert_exporter": "python",
   "pygments_lexer": "ipython3",
   "version": "3.11.1"
  },
  "orig_nbformat": 4
 },
 "nbformat": 4,
 "nbformat_minor": 2
}
